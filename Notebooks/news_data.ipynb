{
 "cells": [
  {
   "cell_type": "markdown",
   "id": "9b17ac50",
   "metadata": {},
   "source": [
    "Dataset Load + Combine"
   ]
  },
  {
   "cell_type": "code",
   "execution_count": 11,
   "id": "6164ec97",
   "metadata": {},
   "outputs": [],
   "source": [
    "import pandas as pd\n",
    "\n",
    "# Load both datasets\n",
    "fake_df=pd.read_csv(r\"D:\\Practice+Learning\\Fake_news App\\Data\\Fake.csv\")\n",
    "real_df=pd.read_csv(r\"D:\\Practice+Learning\\Fake_news App\\Data\\True.csv\")"
   ]
  },
  {
   "cell_type": "code",
   "execution_count": 12,
   "id": "a79585d0",
   "metadata": {},
   "outputs": [],
   "source": [
    "# Add label column: 0 = Fake, 1 = Real\n",
    "fake_df['label'] = 0\n",
    "real_df['label'] = 1"
   ]
  },
  {
   "cell_type": "code",
   "execution_count": 13,
   "id": "41890aba",
   "metadata": {},
   "outputs": [],
   "source": [
    "# Combine both into one\n",
    "df = pd.concat([fake_df, real_df], ignore_index=True)"
   ]
  },
  {
   "cell_type": "code",
   "execution_count": 14,
   "id": "00736a01",
   "metadata": {},
   "outputs": [],
   "source": [
    "# Shuffle the rows\n",
    "df = df.sample(frac=1).reset_index(drop=True)\n"
   ]
  },
  {
   "cell_type": "code",
   "execution_count": 15,
   "id": "6254495c",
   "metadata": {},
   "outputs": [
    {
     "data": {
      "text/html": [
       "<div>\n",
       "<style scoped>\n",
       "    .dataframe tbody tr th:only-of-type {\n",
       "        vertical-align: middle;\n",
       "    }\n",
       "\n",
       "    .dataframe tbody tr th {\n",
       "        vertical-align: top;\n",
       "    }\n",
       "\n",
       "    .dataframe thead th {\n",
       "        text-align: right;\n",
       "    }\n",
       "</style>\n",
       "<table border=\"1\" class=\"dataframe\">\n",
       "  <thead>\n",
       "    <tr style=\"text-align: right;\">\n",
       "      <th></th>\n",
       "      <th>title</th>\n",
       "      <th>text</th>\n",
       "      <th>subject</th>\n",
       "      <th>date</th>\n",
       "      <th>label</th>\n",
       "    </tr>\n",
       "  </thead>\n",
       "  <tbody>\n",
       "    <tr>\n",
       "      <th>0</th>\n",
       "      <td>SERIOUSLY? PRO-ILLEGAL ALIEN Supporters Demand...</td>\n",
       "      <td>The video begins with a clearly agitated pro-i...</td>\n",
       "      <td>politics</td>\n",
       "      <td>Feb 27, 2017</td>\n",
       "      <td>0</td>\n",
       "    </tr>\n",
       "    <tr>\n",
       "      <th>1</th>\n",
       "      <td>WATCH: Ted Cruz Claims Democrats Are “The Par...</td>\n",
       "      <td>Ted Cruz decided to smear present-day Democrat...</td>\n",
       "      <td>News</td>\n",
       "      <td>February 8, 2017</td>\n",
       "      <td>0</td>\n",
       "    </tr>\n",
       "    <tr>\n",
       "      <th>2</th>\n",
       "      <td>Melania's birth country Slovenia sees strong t...</td>\n",
       "      <td>LJUBLJANA (Reuters) - Slovenia, birth country ...</td>\n",
       "      <td>worldnews</td>\n",
       "      <td>December 19, 2017</td>\n",
       "      <td>1</td>\n",
       "    </tr>\n",
       "    <tr>\n",
       "      <th>3</th>\n",
       "      <td>BREAKING: Israel’s “Worst Fears Confirmed,” S...</td>\n",
       "      <td>In a bombshell revelation, The New York Times ...</td>\n",
       "      <td>News</td>\n",
       "      <td>May 16, 2017</td>\n",
       "      <td>0</td>\n",
       "    </tr>\n",
       "    <tr>\n",
       "      <th>4</th>\n",
       "      <td>BUSTED! LIBERAL BRAINIACS Steal Trump Sign…In ...</td>\n",
       "      <td>This is just idiotic! A couple of liberal brai...</td>\n",
       "      <td>left-news</td>\n",
       "      <td>Sep 24, 2016</td>\n",
       "      <td>0</td>\n",
       "    </tr>\n",
       "  </tbody>\n",
       "</table>\n",
       "</div>"
      ],
      "text/plain": [
       "                                               title  \\\n",
       "0  SERIOUSLY? PRO-ILLEGAL ALIEN Supporters Demand...   \n",
       "1   WATCH: Ted Cruz Claims Democrats Are “The Par...   \n",
       "2  Melania's birth country Slovenia sees strong t...   \n",
       "3   BREAKING: Israel’s “Worst Fears Confirmed,” S...   \n",
       "4  BUSTED! LIBERAL BRAINIACS Steal Trump Sign…In ...   \n",
       "\n",
       "                                                text    subject  \\\n",
       "0  The video begins with a clearly agitated pro-i...   politics   \n",
       "1  Ted Cruz decided to smear present-day Democrat...       News   \n",
       "2  LJUBLJANA (Reuters) - Slovenia, birth country ...  worldnews   \n",
       "3  In a bombshell revelation, The New York Times ...       News   \n",
       "4  This is just idiotic! A couple of liberal brai...  left-news   \n",
       "\n",
       "                 date  label  \n",
       "0        Feb 27, 2017      0  \n",
       "1    February 8, 2017      0  \n",
       "2  December 19, 2017       1  \n",
       "3        May 16, 2017      0  \n",
       "4        Sep 24, 2016      0  "
      ]
     },
     "execution_count": 15,
     "metadata": {},
     "output_type": "execute_result"
    }
   ],
   "source": [
    "# Quick look\n",
    "df.head()"
   ]
  },
  {
   "cell_type": "code",
   "execution_count": 16,
   "id": "815aa40e",
   "metadata": {},
   "outputs": [],
   "source": [
    "# Save combined and shuffled data to CSV\n",
    "df.to_csv(\"news_data.csv\", index=False)\n"
   ]
  },
  {
   "cell_type": "markdown",
   "id": "0e2e1619",
   "metadata": {},
   "source": [
    "🧠 Logic:\n",
    "Fake and real articles are separate → label them\n",
    "\n",
    "0 = fake, 1 = real (classification problem)\n",
    "\n",
    "Combine and shuffle → model doesn’t learn any pattern from order\n",
    "\n"
   ]
  }
 ],
 "metadata": {
  "kernelspec": {
   "display_name": "base",
   "language": "python",
   "name": "python3"
  },
  "language_info": {
   "codemirror_mode": {
    "name": "ipython",
    "version": 3
   },
   "file_extension": ".py",
   "mimetype": "text/x-python",
   "name": "python",
   "nbconvert_exporter": "python",
   "pygments_lexer": "ipython3",
   "version": "3.12.7"
  }
 },
 "nbformat": 4,
 "nbformat_minor": 5
}
