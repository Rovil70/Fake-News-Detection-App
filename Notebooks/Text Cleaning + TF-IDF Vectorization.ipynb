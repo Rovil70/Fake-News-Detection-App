{
 "cells": [
  {
   "cell_type": "markdown",
   "id": "4a4302b0",
   "metadata": {},
   "source": [
    "Clean text + Apply TF-IDF + Save vectorizer"
   ]
  },
  {
   "cell_type": "code",
   "execution_count": 14,
   "id": "083116d4",
   "metadata": {},
   "outputs": [
    {
     "name": "stderr",
     "output_type": "stream",
     "text": [
      "[nltk_data] Downloading package stopwords to\n",
      "[nltk_data]     C:\\Users\\Lenovo/nltk_data...\n",
      "[nltk_data]   Package stopwords is already up-to-date!\n",
      "[nltk_data] Downloading package punkt to C:\\Users\\Lenovo/nltk_data...\n",
      "[nltk_data]   Package punkt is already up-to-date!\n",
      "[nltk_data] Downloading package wordnet to\n",
      "[nltk_data]     C:\\Users\\Lenovo/nltk_data...\n",
      "[nltk_data]   Package wordnet is already up-to-date!\n"
     ]
    },
    {
     "data": {
      "text/plain": [
       "True"
      ]
     },
     "execution_count": 14,
     "metadata": {},
     "output_type": "execute_result"
    }
   ],
   "source": [
    "# First-time NLTK downloads\n",
    "import nltk\n",
    "nltk.download('stopwords')\n",
    "nltk.download('punkt')\n",
    "nltk.download('wordnet')\n"
   ]
  },
  {
   "cell_type": "code",
   "execution_count": 15,
   "id": "34c3219d",
   "metadata": {},
   "outputs": [],
   "source": [
    "# Load Libraries\n",
    "import pandas as pd\n",
    "import string\n",
    "from nltk.corpus import stopwords\n",
    "from nltk.tokenize import word_tokenize\n",
    "from nltk.stem import WordNetLemmatizer\n",
    "from sklearn.feature_extraction.text import TfidfVectorizer\n",
    "import joblib\n"
   ]
  },
  {
   "cell_type": "code",
   "execution_count": 16,
   "id": "70114c47",
   "metadata": {},
   "outputs": [],
   "source": [
    "# Load dataset\n",
    "df = pd.read_csv(r\"D:\\Practice+Learning\\Fake_news App\\Data\\news_data.csv\")\n"
   ]
  },
  {
   "cell_type": "code",
   "execution_count": 17,
   "id": "ab03a952",
   "metadata": {},
   "outputs": [],
   "source": [
    "# Preprocessing function\n",
    "stop_words = set(stopwords.words('english'))\n",
    "lemmatizer = WordNetLemmatizer()\n",
    "\n",
    "def clean_text(text):\n",
    "    text = text.lower()\n",
    "    text = text.translate(str.maketrans('', '', string.punctuation))\n",
    "    tokens = word_tokenize(text)\n",
    "    cleaned = [lemmatizer.lemmatize(word) for word in tokens if word not in stop_words]\n",
    "    return ' '.join(cleaned)\n",
    "\n",
    "\n",
    "# Apply to 'title'\n",
    "df['clean_text'] = df['title'].apply(clean_text)\n"
   ]
  },
  {
   "cell_type": "code",
   "execution_count": 18,
   "id": "f4a6ada8",
   "metadata": {},
   "outputs": [],
   "source": [
    "# TF-IDF vectorization\n",
    "tfidf = TfidfVectorizer(max_features=5000)\n",
    "X = tfidf.fit_transform(df['clean_text'])\n",
    "y = df['label']"
   ]
  },
  {
   "cell_type": "code",
   "execution_count": 20,
   "id": "ea1e5785",
   "metadata": {},
   "outputs": [
    {
     "data": {
      "text/plain": [
       "['tfidf_vectorizer.pkl']"
      ]
     },
     "execution_count": 20,
     "metadata": {},
     "output_type": "execute_result"
    }
   ],
   "source": [
    "# Save vectorizer for Flask app\n",
    "joblib.dump(tfidf, 'tfidf_vectorizer.pkl')"
   ]
  },
  {
   "cell_type": "code",
   "execution_count": 21,
   "id": "936cc3b9",
   "metadata": {},
   "outputs": [],
   "source": [
    "# save cleaned dataset\n",
    "df.to_csv(\"cleaned_news_data.csv\", index=False)"
   ]
  },
  {
   "cell_type": "code",
   "execution_count": 22,
   "id": "91acd110",
   "metadata": {},
   "outputs": [
    {
     "data": {
      "text/html": [
       "<div>\n",
       "<style scoped>\n",
       "    .dataframe tbody tr th:only-of-type {\n",
       "        vertical-align: middle;\n",
       "    }\n",
       "\n",
       "    .dataframe tbody tr th {\n",
       "        vertical-align: top;\n",
       "    }\n",
       "\n",
       "    .dataframe thead th {\n",
       "        text-align: right;\n",
       "    }\n",
       "</style>\n",
       "<table border=\"1\" class=\"dataframe\">\n",
       "  <thead>\n",
       "    <tr style=\"text-align: right;\">\n",
       "      <th></th>\n",
       "      <th>title</th>\n",
       "      <th>text</th>\n",
       "      <th>subject</th>\n",
       "      <th>date</th>\n",
       "      <th>label</th>\n",
       "      <th>clean_text</th>\n",
       "    </tr>\n",
       "  </thead>\n",
       "  <tbody>\n",
       "    <tr>\n",
       "      <th>0</th>\n",
       "      <td>SERIOUSLY? PRO-ILLEGAL ALIEN Supporters Demand...</td>\n",
       "      <td>The video begins with a clearly agitated pro-i...</td>\n",
       "      <td>politics</td>\n",
       "      <td>Feb 27, 2017</td>\n",
       "      <td>0</td>\n",
       "      <td>seriously proillegal alien supporter demand co...</td>\n",
       "    </tr>\n",
       "    <tr>\n",
       "      <th>1</th>\n",
       "      <td>WATCH: Ted Cruz Claims Democrats Are “The Par...</td>\n",
       "      <td>Ted Cruz decided to smear present-day Democrat...</td>\n",
       "      <td>News</td>\n",
       "      <td>February 8, 2017</td>\n",
       "      <td>0</td>\n",
       "      <td>watch ted cruz claim democrat “ party kkk ” ge...</td>\n",
       "    </tr>\n",
       "    <tr>\n",
       "      <th>2</th>\n",
       "      <td>Melania's birth country Slovenia sees strong t...</td>\n",
       "      <td>LJUBLJANA (Reuters) - Slovenia, birth country ...</td>\n",
       "      <td>worldnews</td>\n",
       "      <td>December 19, 2017</td>\n",
       "      <td>1</td>\n",
       "      <td>melanias birth country slovenia see strong tou...</td>\n",
       "    </tr>\n",
       "    <tr>\n",
       "      <th>3</th>\n",
       "      <td>BREAKING: Israel’s “Worst Fears Confirmed,” S...</td>\n",
       "      <td>In a bombshell revelation, The New York Times ...</td>\n",
       "      <td>News</td>\n",
       "      <td>May 16, 2017</td>\n",
       "      <td>0</td>\n",
       "      <td>breaking israel ’ “ worst fear confirmed ” say...</td>\n",
       "    </tr>\n",
       "    <tr>\n",
       "      <th>4</th>\n",
       "      <td>BUSTED! LIBERAL BRAINIACS Steal Trump Sign…In ...</td>\n",
       "      <td>This is just idiotic! A couple of liberal brai...</td>\n",
       "      <td>left-news</td>\n",
       "      <td>Sep 24, 2016</td>\n",
       "      <td>0</td>\n",
       "      <td>busted liberal brainiac steal trump sign…in co...</td>\n",
       "    </tr>\n",
       "  </tbody>\n",
       "</table>\n",
       "</div>"
      ],
      "text/plain": [
       "                                               title  \\\n",
       "0  SERIOUSLY? PRO-ILLEGAL ALIEN Supporters Demand...   \n",
       "1   WATCH: Ted Cruz Claims Democrats Are “The Par...   \n",
       "2  Melania's birth country Slovenia sees strong t...   \n",
       "3   BREAKING: Israel’s “Worst Fears Confirmed,” S...   \n",
       "4  BUSTED! LIBERAL BRAINIACS Steal Trump Sign…In ...   \n",
       "\n",
       "                                                text    subject  \\\n",
       "0  The video begins with a clearly agitated pro-i...   politics   \n",
       "1  Ted Cruz decided to smear present-day Democrat...       News   \n",
       "2  LJUBLJANA (Reuters) - Slovenia, birth country ...  worldnews   \n",
       "3  In a bombshell revelation, The New York Times ...       News   \n",
       "4  This is just idiotic! A couple of liberal brai...  left-news   \n",
       "\n",
       "                 date  label  \\\n",
       "0        Feb 27, 2017      0   \n",
       "1    February 8, 2017      0   \n",
       "2  December 19, 2017       1   \n",
       "3        May 16, 2017      0   \n",
       "4        Sep 24, 2016      0   \n",
       "\n",
       "                                          clean_text  \n",
       "0  seriously proillegal alien supporter demand co...  \n",
       "1  watch ted cruz claim democrat “ party kkk ” ge...  \n",
       "2  melanias birth country slovenia see strong tou...  \n",
       "3  breaking israel ’ “ worst fear confirmed ” say...  \n",
       "4  busted liberal brainiac steal trump sign…in co...  "
      ]
     },
     "execution_count": 22,
     "metadata": {},
     "output_type": "execute_result"
    }
   ],
   "source": [
    "df.head()"
   ]
  }
 ],
 "metadata": {
  "kernelspec": {
   "display_name": "base",
   "language": "python",
   "name": "python3"
  },
  "language_info": {
   "codemirror_mode": {
    "name": "ipython",
    "version": 3
   },
   "file_extension": ".py",
   "mimetype": "text/x-python",
   "name": "python",
   "nbconvert_exporter": "python",
   "pygments_lexer": "ipython3",
   "version": "3.12.7"
  }
 },
 "nbformat": 4,
 "nbformat_minor": 5
}
